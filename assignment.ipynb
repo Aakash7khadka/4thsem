{
 "cells": [
  {
   "cell_type": "markdown",
   "metadata": {},
   "source": [
    "#1\n"
   ]
  },
  {
   "cell_type": "code",
   "execution_count": null,
   "metadata": {},
   "outputs": [],
   "source": [
    "def isSorted(a,n):\n",
    "    \n",
    "    for x in range(n-1):\n",
    "        if(a[x]<a[x+1]):\n",
    "            continue\n",
    "        else:\n",
    "            return False\n",
    "    return True\n",
    "\n",
    "pr=isSorted([1,8,44],3)\n",
    "print(pr)"
   ]
  },
  {
   "cell_type": "markdown",
   "metadata": {},
   "source": [
    "# 2"
   ]
  },
  {
   "cell_type": "code",
   "execution_count": null,
   "metadata": {},
   "outputs": [],
   "source": [
    "def is_anagrams(str11,str22):\n",
    "    str1=str11.replace(' ','')\n",
    "    str2=str22.replace(' ','')\n",
    "    dict1={}\n",
    "    dict2={}\n",
    "    for x in str1:\n",
    "        if x in dict1:\n",
    "            dict1[x]+=1\n",
    "        else:\n",
    "            dict1[x]=1\n",
    "\n",
    "    for x in str2:\n",
    "        if x in dict2:\n",
    "            dict2[x]+=1\n",
    "        else:\n",
    "            dict2[x]=1\n",
    "    if(dict1==dict2):\n",
    "        return 1\n",
    "    return 0\n",
    "    \n",
    "\n",
    "str1=\"hello you\"\n",
    "str2='olleh you'\n",
    "\n",
    "if(is_anagrams(str1,str2)==1):\n",
    "    print(\"anagrams\")\n",
    "else:\n",
    "    print(\"not anagrams\")\n"
   ]
  },
  {
   "cell_type": "markdown",
   "metadata": {},
   "source": [
    "# 3\n"
   ]
  },
  {
   "cell_type": "code",
   "execution_count": null,
   "metadata": {},
   "outputs": [],
   "source": [
    "def remove_duplicates(a):\n",
    "    b=list(set(a))\n",
    "    return b\n",
    "    \n",
    "    \n",
    "a=\"ramms\"\n",
    "print(remove_duplicates(a))\n",
    "    "
   ]
  },
  {
   "cell_type": "markdown",
   "metadata": {},
   "source": [
    "# 4"
   ]
  },
  {
   "cell_type": "code",
   "execution_count": null,
   "metadata": {},
   "outputs": [],
   "source": [
    "def is_prime(num):\n",
    "    flag=0\n",
    "    for i in range(2,num):\n",
    "        \n",
    "        if(num%i==0):\n",
    "            flag+=1\n",
    "    if(flag==0):\n",
    "        return True\n",
    "    return False\n",
    "if(is_prime(7)):\n",
    "    print(\"Prime\")\n",
    "else:\n",
    "    print(\"not prime\")\n",
    "        "
   ]
  },
  {
   "cell_type": "markdown",
   "metadata": {},
   "source": [
    "# 5\n"
   ]
  },
  {
   "cell_type": "code",
   "execution_count": null,
   "metadata": {},
   "outputs": [],
   "source": [
    "def is_pallindrome(strr):\n",
    "    rev=[]\n",
    "    for x in range(len(strr)-1,-1,-1):\n",
    "        rev.append(strr[x])\n",
    "    print(rev)\n",
    "    if(strr==rev):\n",
    "        return True\n",
    "    return False\n",
    "string=\"yeyy\"\n",
    "if(is_pallindrome(list(string))):\n",
    "    print(\"Pallindrome\")\n",
    "else:\n",
    "    print(\"Not Pallindrome\")\n",
    "    \n",
    "    "
   ]
  },
  {
   "cell_type": "markdown",
   "metadata": {},
   "source": [
    "# 6"
   ]
  },
  {
   "cell_type": "code",
   "execution_count": null,
   "metadata": {},
   "outputs": [],
   "source": [
    "def square_between(a,b):\n",
    "    s=[]\n",
    "    for i in range(a+1,b):\n",
    "        s.append(i**2)\n",
    "    print(s)\n",
    "square_between(2,5)"
   ]
  },
  {
   "cell_type": "markdown",
   "metadata": {},
   "source": [
    "# 7"
   ]
  },
  {
   "cell_type": "code",
   "execution_count": null,
   "metadata": {},
   "outputs": [],
   "source": [
    "a=int(input(\"Enter first integer:\"))\n",
    "b=int(input(\"Enter second integer:\"))\n",
    "if(b !=0):\n",
    "    if(a%b==0):\n",
    "        print(\"%d is divisible by %d\"%(a,b))\n",
    "    else:\n",
    "        print(\"Not divisible\")\n",
    "else:\n",
    "    print(\"Division not possible by 0\")\n"
   ]
  },
  {
   "cell_type": "markdown",
   "metadata": {},
   "source": [
    "# 8"
   ]
  },
  {
   "cell_type": "code",
   "execution_count": null,
   "metadata": {},
   "outputs": [],
   "source": [
    "var=input(\"Enter any value:\")\n",
    "if(type(var)==int):\n",
    "    print(\"It is integer\")\n",
    "elif(type(var)==str):\n",
    "    print(\"It is a string\")\n",
    "else:\n",
    "    print(\"neither integer nor string\")"
   ]
  },
  {
   "cell_type": "markdown",
   "metadata": {},
   "source": [
    "# 9"
   ]
  },
  {
   "cell_type": "code",
   "execution_count": 12,
   "metadata": {},
   "outputs": [
    {
     "name": "stdout",
     "output_type": "stream",
     "text": [
      "Enter a character:q\n",
      "[4]\n"
     ]
    }
   ],
   "source": [
    "lst=\"The quick brown fox jumps over the lazy dog\"\n",
    "lst=lst.lower()\n",
    "char=input(\"Enter a character:\").lower()\n",
    "indices=[]\n",
    "for x in range(len(lst)):\n",
    "    if(lst[x]==char):\n",
    "        indices.append(x)\n",
    "print(indices)"
   ]
  }
 ],
 "metadata": {
  "kernelspec": {
   "display_name": "Python 3",
   "language": "python",
   "name": "python3"
  },
  "language_info": {
   "codemirror_mode": {
    "name": "ipython",
    "version": 3
   },
   "file_extension": ".py",
   "mimetype": "text/x-python",
   "name": "python",
   "nbconvert_exporter": "python",
   "pygments_lexer": "ipython3",
   "version": "3.7.4"
  }
 },
 "nbformat": 4,
 "nbformat_minor": 2
}
